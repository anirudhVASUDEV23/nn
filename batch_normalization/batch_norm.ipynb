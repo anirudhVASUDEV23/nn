{
 "cells": [
  {
   "cell_type": "code",
   "execution_count": 1,
   "id": "63f473c3",
   "metadata": {},
   "outputs": [],
   "source": [
    "import torch \n",
    "import torch.nn as nn\n",
    "import torch.optim as optim\n",
    "from torch.utils.data import DataLoader\n",
    "from torchvision import datasets,transforms\n",
    "import numpy as np\n",
    "from sklearn.metrics import accuracy_score\n",
    "from matplotlib import pyplot as plt\n",
    "\n",
    "# Device configuration\n",
    "device = torch.device(\"cuda\" if torch.cuda.is_available() else \"cpu\")\n"
   ]
  },
  {
   "cell_type": "code",
   "execution_count": 2,
   "id": "30ab953e",
   "metadata": {},
   "outputs": [
    {
     "name": "stderr",
     "output_type": "stream",
     "text": [
      "100%|██████████| 9.91M/9.91M [00:41<00:00, 237kB/s] \n",
      "100%|██████████| 28.9k/28.9k [00:00<00:00, 107kB/s]\n",
      "100%|██████████| 1.65M/1.65M [00:05<00:00, 293kB/s]\n",
      "100%|██████████| 4.54k/4.54k [00:00<00:00, 4.49MB/s]\n"
     ]
    }
   ],
   "source": [
    "##Load and normzlize the mnist dataset\n",
    "transform=transforms.Compose([\n",
    "    transforms.ToTensor(),\n",
    "    transforms.Normalize((0.5,), (0.5,))\n",
    "])\n",
    "\n",
    "train_dataset=datasets.MNIST(\n",
    "    root=\"data\",\n",
    "    train=True,\n",
    "    download=True,\n",
    "    transform=transform\n",
    ")\n",
    "\n",
    "test_dataset=datasets.MNIST(\n",
    "    root=\"data\",\n",
    "    train=False,\n",
    "    download=True,\n",
    "    transform=transform\n",
    ")\n",
    "\n",
    "train_loader=DataLoader(dataset=train_dataset,batch_size=64,shuffle=True)\n",
    "test_loader=DataLoader(dataset=test_dataset,batch_size=64,shuffle=False)"
   ]
  },
  {
   "cell_type": "code",
   "execution_count": 5,
   "id": "afd380ee",
   "metadata": {},
   "outputs": [],
   "source": [
    "iter=iter(train_loader)\n",
    "images,labels=next(iter)"
   ]
  },
  {
   "cell_type": "code",
   "execution_count": 6,
   "id": "d32291fc",
   "metadata": {},
   "outputs": [
    {
     "data": {
      "text/plain": [
       "torch.Size([64, 1, 28, 28])"
      ]
     },
     "execution_count": 6,
     "metadata": {},
     "output_type": "execute_result"
    }
   ],
   "source": [
    "images.shape"
   ]
  },
  {
   "cell_type": "code",
   "execution_count": 7,
   "id": "4717602e",
   "metadata": {},
   "outputs": [
    {
     "data": {
      "text/plain": [
       "torch.Size([64])"
      ]
     },
     "execution_count": 7,
     "metadata": {},
     "output_type": "execute_result"
    }
   ],
   "source": [
    "labels.shape"
   ]
  },
  {
   "cell_type": "markdown",
   "id": "45e58c3d",
   "metadata": {},
   "source": [
    "### Training a neural network without batch normalization"
   ]
  },
  {
   "cell_type": "code",
   "execution_count": 8,
   "id": "1d8d0e22",
   "metadata": {},
   "outputs": [],
   "source": [
    "class MNISTClassifier(nn.Module):\n",
    "    def __init__(self):\n",
    "        super().__init__()\n",
    "        self.network=nn.Sequential(\n",
    "            nn.Flatten(),##Flattens 28*28 array into a flatlist \n",
    "            nn.Linear(28*28,128),\n",
    "            nn.ReLU(),\n",
    "            nn.Linear(128,64),\n",
    "            nn.ReLU(),\n",
    "            nn.Linear(64,10)\n",
    "        )\n",
    "\n",
    "    def forward(self,x):\n",
    "        return self.network(x)"
   ]
  },
  {
   "cell_type": "code",
   "execution_count": 12,
   "id": "aad8f6fa",
   "metadata": {},
   "outputs": [],
   "source": [
    "def train_model(model,train_loader,test_loader,optimizer,criterion,epochs=5):\n",
    "\n",
    "    val_accuracies=[]\n",
    "\n",
    "    for epoch in range(epochs):\n",
    "        model.train()\n",
    "\n",
    "        for batch_number,(images,labels) in enumerate(train_loader):\n",
    "            images=images.to(device)\n",
    "            labels=labels.to(device)\n",
    "            #1 feed forward\n",
    "            optimizer.zero_grad()\n",
    "            outputs=model(images)\n",
    "            #2 compute loss\n",
    "            loss=criterion(outputs,labels)\n",
    "            #3 backpropogate\n",
    "            loss.backward()\n",
    "            #4 update weights\n",
    "            optimizer.step()\n",
    "            if batch_number%100==0:\n",
    "                print(f\"Epoch {epoch}, Batch: {batch_number}, Train Loss: {loss.item():0.2f}\")\n",
    "\n",
    "        model.eval()\n",
    "        y_pred,y_true=[],[]\n",
    "        with torch.no_grad():\n",
    "            for images,labels in test_loader:\n",
    "                images=images.to(device)\n",
    "                labels=labels.to(device)\n",
    "                outputs=model(images)\n",
    "                _,predicted=torch.max(outputs.data,1)\n",
    "                y_pred.extend(predicted.cpu().numpy())\n",
    "                y_true.extend(labels.cpu().numpy())\n",
    "        \n",
    "        val_accuracies.append(accuracy_score(y_true,y_pred))\n",
    "\n",
    "    return val_accuracies"
   ]
  },
  {
   "cell_type": "code",
   "execution_count": 13,
   "id": "04af5fa1",
   "metadata": {},
   "outputs": [
    {
     "name": "stdout",
     "output_type": "stream",
     "text": [
      "Epoch 0, Batch: 0, Train Loss: 2.29\n",
      "Epoch 0, Batch: 100, Train Loss: 0.47\n",
      "Epoch 0, Batch: 200, Train Loss: 0.38\n",
      "Epoch 0, Batch: 300, Train Loss: 0.26\n",
      "Epoch 0, Batch: 400, Train Loss: 0.26\n",
      "Epoch 0, Batch: 500, Train Loss: 0.33\n",
      "Epoch 0, Batch: 600, Train Loss: 0.11\n",
      "Epoch 0, Batch: 700, Train Loss: 0.17\n",
      "Epoch 0, Batch: 800, Train Loss: 0.23\n",
      "Epoch 0, Batch: 900, Train Loss: 0.05\n",
      "Epoch 1, Batch: 0, Train Loss: 0.23\n",
      "Epoch 1, Batch: 100, Train Loss: 0.30\n",
      "Epoch 1, Batch: 200, Train Loss: 0.27\n",
      "Epoch 1, Batch: 300, Train Loss: 0.14\n",
      "Epoch 1, Batch: 400, Train Loss: 0.06\n",
      "Epoch 1, Batch: 500, Train Loss: 0.12\n",
      "Epoch 1, Batch: 600, Train Loss: 0.23\n",
      "Epoch 1, Batch: 700, Train Loss: 0.18\n",
      "Epoch 1, Batch: 800, Train Loss: 0.23\n",
      "Epoch 1, Batch: 900, Train Loss: 0.24\n",
      "Epoch 2, Batch: 0, Train Loss: 0.17\n",
      "Epoch 2, Batch: 100, Train Loss: 0.08\n",
      "Epoch 2, Batch: 200, Train Loss: 0.18\n",
      "Epoch 2, Batch: 300, Train Loss: 0.17\n",
      "Epoch 2, Batch: 400, Train Loss: 0.10\n",
      "Epoch 2, Batch: 500, Train Loss: 0.20\n",
      "Epoch 2, Batch: 600, Train Loss: 0.21\n",
      "Epoch 2, Batch: 700, Train Loss: 0.07\n",
      "Epoch 2, Batch: 800, Train Loss: 0.07\n",
      "Epoch 2, Batch: 900, Train Loss: 0.11\n",
      "Epoch 3, Batch: 0, Train Loss: 0.15\n",
      "Epoch 3, Batch: 100, Train Loss: 0.12\n",
      "Epoch 3, Batch: 200, Train Loss: 0.06\n",
      "Epoch 3, Batch: 300, Train Loss: 0.06\n",
      "Epoch 3, Batch: 400, Train Loss: 0.07\n",
      "Epoch 3, Batch: 500, Train Loss: 0.05\n",
      "Epoch 3, Batch: 600, Train Loss: 0.01\n",
      "Epoch 3, Batch: 700, Train Loss: 0.10\n",
      "Epoch 3, Batch: 800, Train Loss: 0.11\n",
      "Epoch 3, Batch: 900, Train Loss: 0.07\n",
      "Epoch 4, Batch: 0, Train Loss: 0.05\n",
      "Epoch 4, Batch: 100, Train Loss: 0.07\n",
      "Epoch 4, Batch: 200, Train Loss: 0.08\n",
      "Epoch 4, Batch: 300, Train Loss: 0.14\n",
      "Epoch 4, Batch: 400, Train Loss: 0.13\n",
      "Epoch 4, Batch: 500, Train Loss: 0.03\n",
      "Epoch 4, Batch: 600, Train Loss: 0.25\n",
      "Epoch 4, Batch: 700, Train Loss: 0.09\n",
      "Epoch 4, Batch: 800, Train Loss: 0.10\n",
      "Epoch 4, Batch: 900, Train Loss: 0.03\n"
     ]
    }
   ],
   "source": [
    "##Initialize the model,criterion,optimizer\n",
    "model=MNISTClassifier().to(device)\n",
    "criterion=nn.CrossEntropyLoss()\n",
    "optimizer=optim.Adam(model.parameters(),lr=0.001)\n",
    "val_accuracies_no_bn=train_model(model,train_loader,test_loader,optimizer,criterion)"
   ]
  },
  {
   "cell_type": "code",
   "execution_count": 15,
   "id": "0994729d",
   "metadata": {},
   "outputs": [
    {
     "data": {
      "text/plain": [
       "[0.9328, 0.9559, 0.9617, 0.9643, 0.9673]"
      ]
     },
     "execution_count": 15,
     "metadata": {},
     "output_type": "execute_result"
    }
   ],
   "source": [
    "val_accuracies_no_bn"
   ]
  },
  {
   "cell_type": "code",
   "execution_count": 14,
   "id": "32bca2fd",
   "metadata": {},
   "outputs": [],
   "source": [
    "##Define a class with batch normalization\n",
    "class MNISTClassifierWithBN(nn.Module):\n",
    "    def __init__(self):\n",
    "        super().__init__()\n",
    "        self.network=nn.Sequential(\n",
    "            nn.Flatten(),\n",
    "            nn.Linear(28*28,128),\n",
    "            nn.BatchNorm1d(128),\n",
    "            nn.ReLU(),\n",
    "            nn.Linear(128,64),\n",
    "            nn.BatchNorm1d(64),\n",
    "            nn.ReLU(),\n",
    "            nn.Linear(64,10)\n",
    "        )\n",
    "\n",
    "    def forward(self,x):\n",
    "        return self.network(x)"
   ]
  },
  {
   "cell_type": "code",
   "execution_count": 16,
   "id": "183e7728",
   "metadata": {},
   "outputs": [
    {
     "name": "stdout",
     "output_type": "stream",
     "text": [
      "Epoch 0, Batch: 0, Train Loss: 2.38\n",
      "Epoch 0, Batch: 100, Train Loss: 0.57\n",
      "Epoch 0, Batch: 200, Train Loss: 0.19\n",
      "Epoch 0, Batch: 300, Train Loss: 0.23\n",
      "Epoch 0, Batch: 400, Train Loss: 0.17\n",
      "Epoch 0, Batch: 500, Train Loss: 0.09\n",
      "Epoch 0, Batch: 600, Train Loss: 0.13\n",
      "Epoch 0, Batch: 700, Train Loss: 0.12\n",
      "Epoch 0, Batch: 800, Train Loss: 0.08\n",
      "Epoch 0, Batch: 900, Train Loss: 0.09\n",
      "Epoch 1, Batch: 0, Train Loss: 0.07\n",
      "Epoch 1, Batch: 100, Train Loss: 0.08\n",
      "Epoch 1, Batch: 200, Train Loss: 0.09\n",
      "Epoch 1, Batch: 300, Train Loss: 0.05\n",
      "Epoch 1, Batch: 400, Train Loss: 0.14\n",
      "Epoch 1, Batch: 500, Train Loss: 0.10\n",
      "Epoch 1, Batch: 600, Train Loss: 0.09\n",
      "Epoch 1, Batch: 700, Train Loss: 0.10\n",
      "Epoch 1, Batch: 800, Train Loss: 0.04\n",
      "Epoch 1, Batch: 900, Train Loss: 0.23\n",
      "Epoch 2, Batch: 0, Train Loss: 0.03\n",
      "Epoch 2, Batch: 100, Train Loss: 0.11\n",
      "Epoch 2, Batch: 200, Train Loss: 0.02\n",
      "Epoch 2, Batch: 300, Train Loss: 0.06\n",
      "Epoch 2, Batch: 400, Train Loss: 0.19\n",
      "Epoch 2, Batch: 500, Train Loss: 0.15\n",
      "Epoch 2, Batch: 600, Train Loss: 0.08\n",
      "Epoch 2, Batch: 700, Train Loss: 0.04\n",
      "Epoch 2, Batch: 800, Train Loss: 0.18\n",
      "Epoch 2, Batch: 900, Train Loss: 0.12\n",
      "Epoch 3, Batch: 0, Train Loss: 0.02\n",
      "Epoch 3, Batch: 100, Train Loss: 0.03\n",
      "Epoch 3, Batch: 200, Train Loss: 0.01\n",
      "Epoch 3, Batch: 300, Train Loss: 0.12\n",
      "Epoch 3, Batch: 400, Train Loss: 0.09\n",
      "Epoch 3, Batch: 500, Train Loss: 0.08\n",
      "Epoch 3, Batch: 600, Train Loss: 0.05\n",
      "Epoch 3, Batch: 700, Train Loss: 0.08\n",
      "Epoch 3, Batch: 800, Train Loss: 0.17\n",
      "Epoch 3, Batch: 900, Train Loss: 0.10\n",
      "Epoch 4, Batch: 0, Train Loss: 0.01\n",
      "Epoch 4, Batch: 100, Train Loss: 0.07\n",
      "Epoch 4, Batch: 200, Train Loss: 0.02\n",
      "Epoch 4, Batch: 300, Train Loss: 0.06\n",
      "Epoch 4, Batch: 400, Train Loss: 0.01\n",
      "Epoch 4, Batch: 500, Train Loss: 0.01\n",
      "Epoch 4, Batch: 600, Train Loss: 0.05\n",
      "Epoch 4, Batch: 700, Train Loss: 0.09\n",
      "Epoch 4, Batch: 800, Train Loss: 0.03\n",
      "Epoch 4, Batch: 900, Train Loss: 0.03\n"
     ]
    }
   ],
   "source": [
    "##Initialize the model,criterion,optimizer\n",
    "model=MNISTClassifierWithBN().to(device)\n",
    "criterion=nn.CrossEntropyLoss()\n",
    "optimizer=optim.Adam(model.parameters(),lr=0.001)\n",
    "val_accuracies_bn=train_model(model,train_loader,test_loader,optimizer,criterion)"
   ]
  },
  {
   "cell_type": "code",
   "execution_count": 17,
   "id": "6eae5327",
   "metadata": {},
   "outputs": [
    {
     "data": {
      "text/plain": [
       "[0.9703, 0.9749, 0.975, 0.9765, 0.9748]"
      ]
     },
     "execution_count": 17,
     "metadata": {},
     "output_type": "execute_result"
    }
   ],
   "source": [
    "val_accuracies_bn"
   ]
  },
  {
   "cell_type": "code",
   "execution_count": 18,
   "id": "077e5c1e",
   "metadata": {},
   "outputs": [
    {
     "data": {
      "image/png": "[encoded data removed]",
      "text/plain": [
       "<Figure size 640x480 with 1 Axes>"
      ]
     },
     "metadata": {},
     "output_type": "display_data"
    }
   ],
   "source": [
    "plt.plot(val_accuracies_no_bn, label=\"Validation Accuracy (No Batch)\")\n",
    "plt.plot(val_accuracies_bn, label=\"Validation Accuracy (With Batch)\")\n",
    "plt.legend()\n",
    "plt.show()"
   ]
  },
  {
   "cell_type": "code",
   "execution_count": null,
   "id": "7154c1e5",
   "metadata": {},
   "outputs": [],
   "source": []
  }
 ],
 "metadata": {
  "kernelspec": {
   "display_name": "base",
   "language": "python",
   "name": "python3"
  },
  "language_info": {
   "codemirror_mode": {
    "name": "ipython",
    "version": 3
   },
   "file_extension": ".py",
   "mimetype": "text/x-python",
   "name": "python",
   "nbconvert_exporter": "python",
   "pygments_lexer": "ipython3",
   "version": "3.12.7"
  }
 },
 "nbformat": 4,
 "nbformat_minor": 5
}
