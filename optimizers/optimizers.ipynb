{
 "cells": [
  {
   "cell_type": "code",
   "execution_count": 1,
   "id": "c356eb6e",
   "metadata": {},
   "outputs": [],
   "source": [
    "import os\n",
    "os.environ[\"KMP_DUPLICATE_LIB_OK\"]=\"TRUE\""
   ]
  },
  {
   "cell_type": "code",
   "execution_count": 4,
   "id": "244f74a2",
   "metadata": {},
   "outputs": [],
   "source": [
    "import pandas as pd\n",
    "import torch\n",
    "from torch import nn,optim\n",
    "import torchvision.transforms as transforms\n",
    "import torchvision.datasets as datasets\n",
    "from torch.utils.data import DataLoader"
   ]
  },
  {
   "cell_type": "code",
   "execution_count": 3,
   "id": "6c6c4157",
   "metadata": {},
   "outputs": [],
   "source": [
    "from matplotlib import pyplot as plt\n",
    "import seaborn as sns"
   ]
  },
  {
   "cell_type": "code",
   "execution_count": 5,
   "id": "89aff056",
   "metadata": {},
   "outputs": [
    {
     "name": "stderr",
     "output_type": "stream",
     "text": [
      "100%|██████████| 26.4M/26.4M [00:19<00:00, 1.33MB/s]\n",
      "100%|██████████| 29.5k/29.5k [00:00<00:00, 246kB/s]\n",
      "100%|██████████| 4.42M/4.42M [00:01<00:00, 2.87MB/s]\n",
      "100%|██████████| 5.15k/5.15k [00:00<00:00, 3.26MB/s]\n"
     ]
    }
   ],
   "source": [
    "training_data=datasets.FashionMNIST(\n",
    "    root=\"data\",\n",
    "    train=True,\n",
    "    download=True,\n",
    "    transform=transforms.ToTensor()\n",
    ")\n",
    "test_data=datasets.FashionMNIST(\n",
    "    root=\"data\",\n",
    "    train=False,\n",
    "    download=True,\n",
    "    transform=transforms.ToTensor()\n",
    ")"
   ]
  },
  {
   "cell_type": "code",
   "execution_count": 6,
   "id": "dbae753f",
   "metadata": {},
   "outputs": [
    {
     "data": {
      "text/plain": [
       "torchvision.datasets.mnist.FashionMNIST"
      ]
     },
     "execution_count": 6,
     "metadata": {},
     "output_type": "execute_result"
    }
   ],
   "source": [
    "type(training_data)"
   ]
  },
  {
   "cell_type": "code",
   "execution_count": 7,
   "id": "6d8f4c0e",
   "metadata": {},
   "outputs": [],
   "source": [
    "train_loader=DataLoader(training_data,batch_size=64,shuffle=True)\n",
    "test_loader=DataLoader(test_data,batch_size=64,shuffle=True)"
   ]
  },
  {
   "cell_type": "code",
   "execution_count": 8,
   "id": "0a556d9c",
   "metadata": {},
   "outputs": [
    {
     "name": "stdout",
     "output_type": "stream",
     "text": [
      "torch.Size([64, 1, 28, 28])\n",
      "torch.Size([64])\n"
     ]
    }
   ],
   "source": [
    "for images,labels in train_loader:\n",
    "    print(images.shape)\n",
    "    print(labels.shape)\n",
    "    break"
   ]
  },
  {
   "cell_type": "code",
   "execution_count": 9,
   "id": "1f0535a1",
   "metadata": {},
   "outputs": [
    {
     "data": {
      "text/plain": [
       "<matplotlib.image.AxesImage at 0x1f16b73ff50>"
      ]
     },
     "execution_count": 9,
     "metadata": {},
     "output_type": "execute_result"
    },
    {
     "data": {
      "image/png": "[encoded data removed]",
      "text/plain": [
       "<Figure size 640x480 with 1 Axes>"
      ]
     },
     "metadata": {},
     "output_type": "display_data"
    }
   ],
   "source": [
    "plt.imshow(images[0].reshape(28,28))"
   ]
  },
  {
   "cell_type": "code",
   "execution_count": 10,
   "id": "7d632579",
   "metadata": {},
   "outputs": [
    {
     "data": {
      "text/plain": [
       "<matplotlib.image.AxesImage at 0x1f16e1ec1a0>"
      ]
     },
     "execution_count": 10,
     "metadata": {},
     "output_type": "execute_result"
    },
    {
     "data": {
      "image/png": "[encoded data removed]",
      "text/plain": [
       "<Figure size 640x480 with 1 Axes>"
      ]
     },
     "metadata": {},
     "output_type": "display_data"
    }
   ],
   "source": [
    "plt.imshow(images[0].squeeze(),cmap=\"gray\")"
   ]
  },
  {
   "cell_type": "code",
   "execution_count": 12,
   "id": "c6959e31",
   "metadata": {},
   "outputs": [
    {
     "data": {
      "text/plain": [
       "tensor(7)"
      ]
     },
     "execution_count": 12,
     "metadata": {},
     "output_type": "execute_result"
    }
   ],
   "source": [
    "labels[0]"
   ]
  },
  {
   "cell_type": "code",
   "execution_count": 14,
   "id": "521806b0",
   "metadata": {},
   "outputs": [
    {
     "data": {
      "text/plain": [
       "'Sneaker'"
      ]
     },
     "execution_count": 14,
     "metadata": {},
     "output_type": "execute_result"
    }
   ],
   "source": [
    "classes=[## from the documentation\n",
    "    'T-shirt/top',\n",
    "    'Trouser',\n",
    "    'Pullover',\n",
    "    'Dress',\n",
    "    'Coat',\n",
    "    'Sandal',\n",
    "    'Shirt',\n",
    "    'Sneaker',\n",
    "    'Bag',\n",
    "    'Ankle boot'\n",
    "]\n",
    "classes[labels[0].item()]"
   ]
  },
  {
   "cell_type": "code",
   "execution_count": null,
   "id": "f30fc1f2",
   "metadata": {},
   "outputs": [
    {
     "data": {
      "text/plain": [
       "'cpu'"
      ]
     },
     "execution_count": 16,
     "metadata": {},
     "output_type": "execute_result"
    }
   ],
   "source": [
    "##Utilize the gpu if you have it else use the cpu,mps is for mac\n",
    "device=(\"cuda\" if torch.cuda.is_available() else \"mps\" if torch.backends.mps.is_available() else \"cpu\")\n",
    "device "
   ]
  },
  {
   "cell_type": "code",
   "execution_count": 19,
   "id": "57733777",
   "metadata": {},
   "outputs": [],
   "source": [
    "class ClothsClassifier(nn.Module):\n",
    "    def __init__(self):\n",
    "        super().__init__()\n",
    "        self.network=nn.Sequential(\n",
    "            nn.Flatten(),##28*28 into flatlist\n",
    "            nn.Linear(28*28,128),\n",
    "            nn.ReLU(),\n",
    "            nn.Linear(128,64),\n",
    "            nn.ReLU(),\n",
    "            nn.Linear(64,10)\n",
    "        )\n",
    "\n",
    "    def forward(self,x):\n",
    "        x=self.network(x)\n",
    "        return x"
   ]
  },
  {
   "cell_type": "markdown",
   "id": "14c1c031",
   "metadata": {},
   "source": [
    "### Defining Model,optimizer and criterion"
   ]
  },
  {
   "cell_type": "code",
   "execution_count": 20,
   "id": "b932bf38",
   "metadata": {},
   "outputs": [],
   "source": [
    "model=ClothsClassifier().to(device)\n",
    "optimizer=optim.SGD(model.parameters(),lr=0.001)\n",
    "loss_fn=nn.CrossEntropyLoss()"
   ]
  },
  {
   "cell_type": "markdown",
   "id": "16d958c5",
   "metadata": {},
   "source": [
    "### Training"
   ]
  },
  {
   "cell_type": "code",
   "execution_count": 22,
   "id": "35318ae3",
   "metadata": {},
   "outputs": [
    {
     "name": "stdout",
     "output_type": "stream",
     "text": [
      "Batch 0,Loss:2.2990212440490723\n",
      "Batch 100,Loss:2.2952263355255127\n",
      "Batch 200,Loss:2.277653694152832\n",
      "Batch 300,Loss:2.2748100757598877\n",
      "Batch 400,Loss:2.2501184940338135\n",
      "Batch 500,Loss:2.249021530151367\n",
      "Batch 600,Loss:2.2336244583129883\n",
      "Batch 700,Loss:2.248375415802002\n",
      "Batch 800,Loss:2.2126970291137695\n",
      "Batch 900,Loss:2.201482057571411\n",
      "Batch 0,Loss:2.187234878540039\n",
      "Batch 100,Loss:2.194537878036499\n",
      "Batch 200,Loss:2.1633827686309814\n",
      "Batch 300,Loss:2.1291921138763428\n",
      "Batch 400,Loss:2.1371512413024902\n",
      "Batch 500,Loss:2.08099102973938\n",
      "Batch 600,Loss:2.0761427879333496\n",
      "Batch 700,Loss:2.0826761722564697\n",
      "Batch 800,Loss:2.0313150882720947\n",
      "Batch 900,Loss:2.012986421585083\n"
     ]
    }
   ],
   "source": [
    "epochs=2\n",
    "\n",
    "for epoch in range(epochs):\n",
    "    for batch,(images,labels) in enumerate(train_loader):\n",
    "        images.to(device)##send to gpu if available\n",
    "        labels.to(device)\n",
    "\n",
    "        #1 forward pass\n",
    "        pred=model(images)##We get back 64*10\n",
    "        loss=loss_fn(pred,labels) \n",
    "\n",
    "        #2 back propogation\n",
    "        loss.backward()\n",
    "\n",
    "        #3 weight update\n",
    "        optimizer.step()\n",
    "        optimizer.zero_grad()\n",
    "\n",
    "        if batch%100==0:\n",
    "            print(f\"Batch {batch},Loss:{loss.item()}\")\n",
    "\n"
   ]
  },
  {
   "cell_type": "markdown",
   "id": "bb4616ae",
   "metadata": {},
   "source": [
    "### This was slow "
   ]
  },
  {
   "cell_type": "code",
   "execution_count": 23,
   "id": "02bce756",
   "metadata": {},
   "outputs": [],
   "source": [
    "model=ClothsClassifier().to(device)\n",
    "optimizer=optim.SGD(model.parameters(),lr=0.001,momentum=0.9)##SGD with momentum\n",
    "loss_fn=nn.CrossEntropyLoss()"
   ]
  },
  {
   "cell_type": "code",
   "execution_count": 24,
   "id": "766be377",
   "metadata": {},
   "outputs": [
    {
     "name": "stdout",
     "output_type": "stream",
     "text": [
      "Batch 0,Loss:2.312929153442383\n",
      "Batch 100,Loss:2.250140428543091\n",
      "Batch 200,Loss:2.1196305751800537\n",
      "Batch 300,Loss:1.8584551811218262\n",
      "Batch 400,Loss:1.5689418315887451\n",
      "Batch 500,Loss:1.3674513101577759\n",
      "Batch 600,Loss:0.9848230481147766\n",
      "Batch 700,Loss:1.1225627660751343\n",
      "Batch 800,Loss:1.0535712242126465\n",
      "Batch 900,Loss:0.8153163194656372\n",
      "Batch 0,Loss:0.7303213477134705\n",
      "Batch 100,Loss:0.7560504078865051\n",
      "Batch 200,Loss:0.7420600056648254\n",
      "Batch 300,Loss:0.653106689453125\n",
      "Batch 400,Loss:0.5595719814300537\n",
      "Batch 500,Loss:0.7011350393295288\n",
      "Batch 600,Loss:0.8007292747497559\n",
      "Batch 700,Loss:0.8347662687301636\n",
      "Batch 800,Loss:0.6976210474967957\n",
      "Batch 900,Loss:0.41142380237579346\n"
     ]
    }
   ],
   "source": [
    "epochs=2\n",
    "\n",
    "for epoch in range(epochs):\n",
    "    for batch,(images,labels) in enumerate(train_loader):\n",
    "        images.to(device)##send to gpu if available\n",
    "        labels.to(device)\n",
    "\n",
    "        #1 forward pass\n",
    "        pred=model(images)##We get back 64*10\n",
    "        loss=loss_fn(pred,labels) \n",
    "\n",
    "        #2 back propogation\n",
    "        loss.backward()\n",
    "\n",
    "        #3 weight update\n",
    "        optimizer.step()\n",
    "        optimizer.zero_grad()\n",
    "\n",
    "        if batch%100==0:\n",
    "            print(f\"Batch {batch},Loss:{loss.item()}\")\n",
    "\n"
   ]
  },
  {
   "cell_type": "markdown",
   "id": "ba1fd4d9",
   "metadata": {},
   "source": [
    "### Let us try Adam "
   ]
  },
  {
   "cell_type": "code",
   "execution_count": 25,
   "id": "694407e5",
   "metadata": {},
   "outputs": [],
   "source": [
    "model=ClothsClassifier().to(device)\n",
    "optimizer=optim.Adam(model.parameters(),lr=0.001)##Adam peta1=.9,peta2=.999\n",
    "loss_fn=nn.CrossEntropyLoss()"
   ]
  },
  {
   "cell_type": "code",
   "execution_count": 26,
   "id": "0bd582ce",
   "metadata": {},
   "outputs": [
    {
     "name": "stdout",
     "output_type": "stream",
     "text": [
      "Batch 0,Loss:2.3197500705718994\n",
      "Batch 100,Loss:0.8241854906082153\n",
      "Batch 200,Loss:0.5739167928695679\n",
      "Batch 300,Loss:0.4891570210456848\n",
      "Batch 400,Loss:0.45718222856521606\n",
      "Batch 500,Loss:0.3614749610424042\n",
      "Batch 600,Loss:0.4132794439792633\n",
      "Batch 700,Loss:0.5195913314819336\n",
      "Batch 800,Loss:0.3736743628978729\n",
      "Batch 900,Loss:0.3609936833381653\n",
      "Batch 0,Loss:0.6733487844467163\n",
      "Batch 100,Loss:0.40552014112472534\n",
      "Batch 200,Loss:0.3465815484523773\n",
      "Batch 300,Loss:0.4947812855243683\n",
      "Batch 400,Loss:0.2879859507083893\n",
      "Batch 500,Loss:0.34719666838645935\n",
      "Batch 600,Loss:0.44586026668548584\n",
      "Batch 700,Loss:0.3997705578804016\n",
      "Batch 800,Loss:0.4901425540447235\n",
      "Batch 900,Loss:0.2745017111301422\n"
     ]
    }
   ],
   "source": [
    "epochs=2\n",
    "\n",
    "for epoch in range(epochs):\n",
    "    for batch,(images,labels) in enumerate(train_loader):\n",
    "        images.to(device)##send to gpu if available\n",
    "        labels.to(device)\n",
    "\n",
    "        #1 forward pass\n",
    "        pred=model(images)##We get back 64*10\n",
    "        loss=loss_fn(pred,labels) \n",
    "\n",
    "        #2 back propogation\n",
    "        loss.backward()\n",
    "\n",
    "        #3 weight update\n",
    "        optimizer.step()\n",
    "        optimizer.zero_grad()\n",
    "\n",
    "        if batch%100==0:\n",
    "            print(f\"Batch {batch},Loss:{loss.item()}\")\n",
    "\n"
   ]
  },
  {
   "cell_type": "code",
   "execution_count": null,
   "id": "5abc507c",
   "metadata": {},
   "outputs": [],
   "source": []
  }
 ],
 "metadata": {
  "kernelspec": {
   "display_name": "base",
   "language": "python",
   "name": "python3"
  },
  "language_info": {
   "codemirror_mode": {
    "name": "ipython",
    "version": 3
   },
   "file_extension": ".py",
   "mimetype": "text/x-python",
   "name": "python",
   "nbconvert_exporter": "python",
   "pygments_lexer": "ipython3",
   "version": "3.12.7"
  }
 },
 "nbformat": 4,
 "nbformat_minor": 5
}
