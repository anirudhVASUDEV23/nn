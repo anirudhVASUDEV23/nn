{
 "cells": [
  {
   "cell_type": "code",
   "execution_count": 1,
   "id": "7e2b5232",
   "metadata": {},
   "outputs": [],
   "source": [
    "import torch\n",
    "import torch.nn as nn\n",
    "import torch.optim as optim\n",
    "import torch.nn.functional as F\n",
    "from torch.utils.data import DataLoader, TensorDataset\n",
    "import optuna\n",
    "from sklearn.datasets import make_classification\n",
    "from sklearn.model_selection import train_test_split\n",
    "from sklearn.preprocessing import StandardScaler"
   ]
  },
  {
   "cell_type": "code",
   "execution_count": 2,
   "id": "47a87410",
   "metadata": {},
   "outputs": [],
   "source": [
    "# 1. Generate synthetic dataset\n",
    "X, y = make_classification(n_samples=1000, n_features=20, n_classes=2, random_state=42)\n",
    "X_train, X_val, y_train, y_val = train_test_split(X, y, test_size=0.2, random_state=42)"
   ]
  },
  {
   "cell_type": "code",
   "execution_count": 3,
   "id": "c9ec5363",
   "metadata": {},
   "outputs": [
    {
     "data": {
      "text/plain": [
       "(800, 20)"
      ]
     },
     "execution_count": 3,
     "metadata": {},
     "output_type": "execute_result"
    }
   ],
   "source": [
    "X_train.shape"
   ]
  },
  {
   "cell_type": "code",
   "execution_count": 4,
   "id": "73a4634c",
   "metadata": {},
   "outputs": [
    {
     "data": {
      "text/plain": [
       "array([ 0.50363664, -1.51368248, -0.46907062,  1.90176571, -0.87064279,\n",
       "        1.82004715,  1.66291365,  1.29105223, -0.16713608, -1.04718436,\n",
       "        1.43003039,  0.20104766,  1.27577182, -1.13260729,  1.75008532,\n",
       "       -1.4089039 ,  0.03301588, -0.80340946, -1.31410638,  1.41209637])"
      ]
     },
     "execution_count": 4,
     "metadata": {},
     "output_type": "execute_result"
    }
   ],
   "source": [
    "X_train[0]"
   ]
  },
  {
   "cell_type": "code",
   "execution_count": 5,
   "id": "6a919e42",
   "metadata": {},
   "outputs": [
    {
     "data": {
      "text/plain": [
       "1"
      ]
     },
     "execution_count": 5,
     "metadata": {},
     "output_type": "execute_result"
    }
   ],
   "source": [
    "y_train[0]"
   ]
  },
  {
   "cell_type": "code",
   "execution_count": 8,
   "id": "ddfde75e",
   "metadata": {},
   "outputs": [],
   "source": [
    "# Convert to PyTorch tensors\n",
    "X_train, y_train = torch.tensor(X_train, dtype=torch.float32), torch.tensor(y_train, dtype=torch.long)\n",
    "X_val, y_val = torch.tensor(X_val, dtype=torch.float32), torch.tensor(y_val, dtype=torch.long)"
   ]
  },
  {
   "cell_type": "code",
   "execution_count": 9,
   "id": "269b06ba",
   "metadata": {},
   "outputs": [],
   "source": [
    "class SimpleNN(nn.Module):\n",
    "    def __init__(self, input_dim, hidden_dim):\n",
    "        super().__init__()\n",
    "        self.network = nn.Sequential(\n",
    "            nn.Linear(input_dim, hidden_dim),\n",
    "            nn.ReLU(),\n",
    "            nn.Linear(hidden_dim, 2)  # Output layer for binary classification\n",
    "        )\n",
    "        \n",
    "    def forward(self, x):\n",
    "        return self.network(x)"
   ]
  },
  {
   "cell_type": "code",
   "execution_count": 10,
   "id": "de8d6a84",
   "metadata": {},
   "outputs": [
    {
     "name": "stderr",
     "output_type": "stream",
     "text": [
      "[I 2025-07-19 07:52:51,515] A new study created in memory with name: no-name-2b0415c6-a8fa-4b44-a078-5c080b3a0f21\n",
      "C:\\Users\\Anirudh\\AppData\\Local\\Temp\\ipykernel_16536\\3203041695.py:4: FutureWarning: suggest_loguniform has been deprecated in v3.0.0. This feature will be removed in v6.0.0. See https://github.com/optuna/optuna/releases/tag/v3.0.0. Use suggest_float(..., log=True) instead.\n",
      "  learning_rate = trial.suggest_loguniform('learning_rate', 1e-4, 1e-1)###0.0001 to 0.01\n",
      "[I 2025-07-19 07:52:52,532] Trial 0 finished with value: 0.865 and parameters: {'learning_rate': 0.0002827413617806001, 'hidden_dim': 44}. Best is trial 0 with value: 0.865.\n",
      "[I 2025-07-19 07:52:53,218] Trial 1 finished with value: 0.845 and parameters: {'learning_rate': 0.0004711463281745233, 'hidden_dim': 29}. Best is trial 0 with value: 0.865.\n",
      "[I 2025-07-19 07:52:54,124] Trial 2 finished with value: 0.825 and parameters: {'learning_rate': 0.011700084267505125, 'hidden_dim': 29}. Best is trial 0 with value: 0.865.\n",
      "[I 2025-07-19 07:52:54,844] Trial 3 finished with value: 0.84 and parameters: {'learning_rate': 0.00015427686399265532, 'hidden_dim': 87}. Best is trial 0 with value: 0.865.\n",
      "[I 2025-07-19 07:52:55,556] Trial 4 finished with value: 0.795 and parameters: {'learning_rate': 0.026242210614794006, 'hidden_dim': 75}. Best is trial 0 with value: 0.865.\n",
      "[I 2025-07-19 07:52:56,370] Trial 5 finished with value: 0.825 and parameters: {'learning_rate': 0.00825518387097946, 'hidden_dim': 63}. Best is trial 0 with value: 0.865.\n",
      "[I 2025-07-19 07:52:57,437] Trial 6 finished with value: 0.82 and parameters: {'learning_rate': 0.01208861270962195, 'hidden_dim': 74}. Best is trial 0 with value: 0.865.\n",
      "[I 2025-07-19 07:52:58,246] Trial 7 finished with value: 0.825 and parameters: {'learning_rate': 0.010040728566217419, 'hidden_dim': 116}. Best is trial 0 with value: 0.865.\n",
      "[I 2025-07-19 07:52:59,135] Trial 8 finished with value: 0.835 and parameters: {'learning_rate': 0.0026872433557933073, 'hidden_dim': 122}. Best is trial 0 with value: 0.865.\n",
      "[I 2025-07-19 07:53:00,079] Trial 9 finished with value: 0.83 and parameters: {'learning_rate': 0.004013348935093393, 'hidden_dim': 105}. Best is trial 0 with value: 0.865.\n",
      "[I 2025-07-19 07:53:00,985] Trial 10 finished with value: 0.86 and parameters: {'learning_rate': 0.0007520898331659561, 'hidden_dim': 49}. Best is trial 0 with value: 0.865.\n",
      "[I 2025-07-19 07:53:02,020] Trial 11 finished with value: 0.845 and parameters: {'learning_rate': 0.0006726995023909055, 'hidden_dim': 49}. Best is trial 0 with value: 0.865.\n",
      "[I 2025-07-19 07:53:02,934] Trial 12 finished with value: 0.855 and parameters: {'learning_rate': 0.0001230582487894355, 'hidden_dim': 51}. Best is trial 0 with value: 0.865.\n",
      "[I 2025-07-19 07:53:03,707] Trial 13 finished with value: 0.87 and parameters: {'learning_rate': 0.0008124297199395977, 'hidden_dim': 16}. Best is trial 13 with value: 0.87.\n",
      "[I 2025-07-19 07:53:04,404] Trial 14 finished with value: 0.87 and parameters: {'learning_rate': 0.0015951463155751886, 'hidden_dim': 20}. Best is trial 13 with value: 0.87.\n",
      "[I 2025-07-19 07:53:05,218] Trial 15 finished with value: 0.78 and parameters: {'learning_rate': 0.08635843402957548, 'hidden_dim': 16}. Best is trial 13 with value: 0.87.\n",
      "[I 2025-07-19 07:53:05,988] Trial 16 finished with value: 0.88 and parameters: {'learning_rate': 0.001687349192325602, 'hidden_dim': 16}. Best is trial 16 with value: 0.88.\n",
      "[I 2025-07-19 07:53:06,947] Trial 17 finished with value: 0.85 and parameters: {'learning_rate': 0.0015094567015819854, 'hidden_dim': 34}. Best is trial 16 with value: 0.88.\n",
      "[I 2025-07-19 07:53:07,753] Trial 18 finished with value: 0.865 and parameters: {'learning_rate': 0.0012199142391291105, 'hidden_dim': 16}. Best is trial 16 with value: 0.88.\n",
      "[I 2025-07-19 07:53:08,437] Trial 19 finished with value: 0.845 and parameters: {'learning_rate': 0.004409317896558949, 'hidden_dim': 36}. Best is trial 16 with value: 0.88.\n"
     ]
    },
    {
     "name": "stdout",
     "output_type": "stream",
     "text": [
      "Best hyperparameters found:\n",
      "{'learning_rate': 0.001687349192325602, 'hidden_dim': 16}\n"
     ]
    }
   ],
   "source": [
    "# 3. Define the objective function for Optuna\n",
    "def objective(trial):\n",
    "    # Suggest values for the hyperparameters\n",
    "    learning_rate = trial.suggest_loguniform('learning_rate', 1e-4, 1e-1)###0.0001 to 0.01\n",
    "    hidden_dim = trial.suggest_int('hidden_dim', 16, 128)\n",
    "\n",
    "    # Model, loss, optimizer\n",
    "    model = SimpleNN(input_dim=20, hidden_dim=hidden_dim)\n",
    "    criterion = nn.CrossEntropyLoss()\n",
    "    optimizer = optim.Adam(model.parameters(), lr=learning_rate)\n",
    "\n",
    "    # Training loop\n",
    "    epochs = 20\n",
    "    batch_size = 32\n",
    "    train_loader = DataLoader(TensorDataset(X_train, y_train), batch_size=batch_size, shuffle=True)\n",
    "    val_loader = DataLoader(TensorDataset(X_val, y_val), batch_size=batch_size)\n",
    "\n",
    "    for epoch in range(epochs):\n",
    "        model.train()\n",
    "        for batch_X, batch_y in train_loader:\n",
    "            optimizer.zero_grad()\n",
    "            outputs = model(batch_X)\n",
    "            loss = criterion(outputs, batch_y)\n",
    "            loss.backward()\n",
    "            optimizer.step()\n",
    "\n",
    "    # Validation accuracy\n",
    "    model.eval()\n",
    "    correct = 0\n",
    "    total = 0\n",
    "    with torch.no_grad():\n",
    "        for batch_X, batch_y in val_loader:\n",
    "            outputs = model(batch_X)\n",
    "            _, predicted = torch.max(outputs, 1)\n",
    "            total += batch_y.size(0)\n",
    "            correct += (predicted == batch_y).sum().item()\n",
    "\n",
    "    accuracy = correct / total\n",
    "    return accuracy\n",
    "\n",
    "# 4. Run the Optuna optimization\n",
    "study = optuna.create_study(direction=\"maximize\")###maximizes the return value of the objective \n",
    "study.optimize(objective, n_trials=20)\n",
    "\n",
    "# 5. Print the best hyperparameters\n",
    "print(\"Best hyperparameters found:\")\n",
    "print(study.best_params)            "
   ]
  },
  {
   "cell_type": "code",
   "execution_count": null,
   "id": "baf38394",
   "metadata": {},
   "outputs": [],
   "source": []
  }
 ],
 "metadata": {
  "kernelspec": {
   "display_name": "base",
   "language": "python",
   "name": "python3"
  },
  "language_info": {
   "codemirror_mode": {
    "name": "ipython",
    "version": 3
   },
   "file_extension": ".py",
   "mimetype": "text/x-python",
   "name": "python",
   "nbconvert_exporter": "python",
   "pygments_lexer": "ipython3",
   "version": "3.12.7"
  }
 },
 "nbformat": 4,
 "nbformat_minor": 5
}
